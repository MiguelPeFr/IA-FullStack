{
 "cells": [
  {
   "cell_type": "code",
   "execution_count": 1,
   "metadata": {},
   "outputs": [],
   "source": [
    "# Instalación de paquetes\n",
    "\n",
    "#instalación numpy\n",
    "import numpy as np\n",
    "\n",
    "#importar pandas\n",
    "import pandas as pd\n",
    "\n",
    "#importar matplot\n",
    "import matplotlib.pyplot as plt\n",
    "%matplotlib inline\n",
    "\n",
    "#importar sklearn\n",
    "import sklearn as sk"
   ]
  },
  {
   "cell_type": "code",
   "execution_count": 2,
   "metadata": {},
   "outputs": [],
   "source": [
    "airbnb = pd.read_csv(\"airbnb-listings-extract.csv\", header=0, sep=\";\", decimal=\".\")"
   ]
  },
  {
   "cell_type": "code",
   "execution_count": 4,
   "metadata": {},
   "outputs": [],
   "source": [
    "airbnb_clean = airbnb.drop([\"ID\", \"Listing Url\", \"Scrape ID\", \"Name\", \"Summary\", \"Space\", \"Neighborhood Overview\",\n",
    "                           \"Notes\", \"Transit\", \"Access\", \"Interaction\", \"House Rules\", \"Thumbnail Url\", \"Medium Url\",\n",
    "                           \"Picture Url\", \"XL Picture Url\", \"Host ID\", \"Host URL\", \"Host Name\", \"Host Since\", \n",
    "                           \"Host Location\", \"Host About\", \"Host Response Rate\", \"Host Acceptance Rate\",\n",
    "                           \"Host Thumbnail Url\", \"Host Picture Url\", \"Host Neighbourhood\", \"Host Listings Count\",\n",
    "                           \"Host Verifications\", \"Host Verifications\", \"Street\", \"Neighbourhood\", \"Neighbourhood Cleansed\",\n",
    "                           \"Neighbourhood Group Cleansed\", \"City\", \"State\", \"Zipcode\", \"Market\", \"Smart Location\",\n",
    "                           \"Country Code\", \"Country\", \"Latitude\", \"Longitude\", \"Property Type\", \"Bed Type\", \"Amenities\",\n",
    "                           \"Square Feet\", \"Weekly Price\", \"Monthly Price\", \"Security Deposit\", \"Cleaning Fee\",\n",
    "                           \"Minimum Nights\", \"Maximum Nights\", \"Calendar Updated\", \"Has Availability\", \"Availability 365\"\n",
    "                           ,\"Availability 90\", \"Availability 60\", \"Availability 30\", \"Last Scraped\", \"First Review\",\n",
    "                           \"Last Review\", \"Review Scores Rating\", \"Review Scores Accuracy\", \"Review Scores Cleanliness\",\n",
    "                           \"Review Scores Checkin\", \"Review Scores Communication\", \"Review Scores Location\", \"Review Scores Value\",\n",
    "                           \"License\", \"Jurisdiction Names\", \"Calculated host listings count\", \"Reviews per Month\", \"Geolocation\",\n",
    "                           \"Features\"], axis=1)"
   ]
  },
  {
   "cell_type": "code",
   "execution_count": null,
   "metadata": {},
   "outputs": [],
   "source": [
    "Experience Offered - Categorizar 5\n",
    "Host Response Time - Rellenar faltantes\n",
    "Host Total Listings Count - Rellenar faltantes y quitar de la derecha a 200\n",
    "Room Type - Categorizar\n",
    "Accommodates\n",
    "Bathroom - Rellenar\n",
    "Bedrooms - Rellenar\n",
    "Beds - Rellenar\n",
    "Price - Objetivo Rellenar???\n",
    "Guest Included\n",
    "Extra People\n",
    "Calendar Last Scraped - Calendarizar 38 distintas\n",
    "Number of Reviews\n",
    "Cancellation Policy - Categorizar 8\n"
   ]
  },
  {
   "cell_type": "code",
   "execution_count": null,
   "metadata": {},
   "outputs": [],
   "source": [
    "airbnb_clean.head(5\n",
    "                )"
   ]
  },
  {
   "cell_type": "code",
   "execution_count": 6,
   "metadata": {},
   "outputs": [
    {
     "name": "stdout",
     "output_type": "stream",
     "text": [
      "Room Type - Total de clases: 3\n"
     ]
    },
    {
     "ename": "KeyError",
     "evalue": "\"None of [Index(['Experience Offered'], dtype='object')] are in the [columns]\"",
     "output_type": "error",
     "traceback": [
      "\u001b[1;31m---------------------------------------------------------------------------\u001b[0m",
      "\u001b[1;31mKeyError\u001b[0m                                  Traceback (most recent call last)",
      "Cell \u001b[1;32mIn[6], line 7\u001b[0m\n\u001b[0;32m      5\u001b[0m \u001b[38;5;28;01mfor\u001b[39;00m column \u001b[38;5;129;01min\u001b[39;00m [\u001b[38;5;124m\"\u001b[39m\u001b[38;5;124mRoom Type\u001b[39m\u001b[38;5;124m\"\u001b[39m, \u001b[38;5;124m\"\u001b[39m\u001b[38;5;124mExperience Offered\u001b[39m\u001b[38;5;124m\"\u001b[39m, \u001b[38;5;124m\"\u001b[39m\u001b[38;5;124mCancellation Policy\u001b[39m\u001b[38;5;124m\"\u001b[39m]:\n\u001b[0;32m      6\u001b[0m     le \u001b[38;5;241m=\u001b[39m preprocessing\u001b[38;5;241m.\u001b[39mOrdinalEncoder()\n\u001b[1;32m----> 7\u001b[0m     airbnb_clean[column] \u001b[38;5;241m=\u001b[39m le\u001b[38;5;241m.\u001b[39mfit_transform(\u001b[43mairbnb_clean\u001b[49m\u001b[43m[\u001b[49m\u001b[43m[\u001b[49m\u001b[43mcolumn\u001b[49m\u001b[43m]\u001b[49m\u001b[43m]\u001b[49m)  \u001b[38;5;66;03m# Usar doble corchete para mantener el formato DataFrame\u001b[39;00m\n\u001b[0;32m      9\u001b[0m     \u001b[38;5;28mprint\u001b[39m(\u001b[38;5;124mf\u001b[39m\u001b[38;5;124m\"\u001b[39m\u001b[38;5;132;01m{\u001b[39;00mcolumn\u001b[38;5;132;01m}\u001b[39;00m\u001b[38;5;124m - Total de clases: \u001b[39m\u001b[38;5;132;01m{\u001b[39;00m\u001b[38;5;28mlen\u001b[39m(le\u001b[38;5;241m.\u001b[39mcategories_[\u001b[38;5;241m0\u001b[39m])\u001b[38;5;132;01m}\u001b[39;00m\u001b[38;5;124m\"\u001b[39m)  \u001b[38;5;66;03m# Imprimir total de clases\u001b[39;00m\n",
      "File \u001b[1;32mc:\\Users\\miba_\\Documents\\IA-FullStack\\MachineLearning\\practica\\.venv\\Lib\\site-packages\\pandas\\core\\frame.py:4108\u001b[0m, in \u001b[0;36mDataFrame.__getitem__\u001b[1;34m(self, key)\u001b[0m\n\u001b[0;32m   4106\u001b[0m     \u001b[38;5;28;01mif\u001b[39;00m is_iterator(key):\n\u001b[0;32m   4107\u001b[0m         key \u001b[38;5;241m=\u001b[39m \u001b[38;5;28mlist\u001b[39m(key)\n\u001b[1;32m-> 4108\u001b[0m     indexer \u001b[38;5;241m=\u001b[39m \u001b[38;5;28;43mself\u001b[39;49m\u001b[38;5;241;43m.\u001b[39;49m\u001b[43mcolumns\u001b[49m\u001b[38;5;241;43m.\u001b[39;49m\u001b[43m_get_indexer_strict\u001b[49m\u001b[43m(\u001b[49m\u001b[43mkey\u001b[49m\u001b[43m,\u001b[49m\u001b[43m \u001b[49m\u001b[38;5;124;43m\"\u001b[39;49m\u001b[38;5;124;43mcolumns\u001b[39;49m\u001b[38;5;124;43m\"\u001b[39;49m\u001b[43m)\u001b[49m[\u001b[38;5;241m1\u001b[39m]\n\u001b[0;32m   4110\u001b[0m \u001b[38;5;66;03m# take() does not accept boolean indexers\u001b[39;00m\n\u001b[0;32m   4111\u001b[0m \u001b[38;5;28;01mif\u001b[39;00m \u001b[38;5;28mgetattr\u001b[39m(indexer, \u001b[38;5;124m\"\u001b[39m\u001b[38;5;124mdtype\u001b[39m\u001b[38;5;124m\"\u001b[39m, \u001b[38;5;28;01mNone\u001b[39;00m) \u001b[38;5;241m==\u001b[39m \u001b[38;5;28mbool\u001b[39m:\n",
      "File \u001b[1;32mc:\\Users\\miba_\\Documents\\IA-FullStack\\MachineLearning\\practica\\.venv\\Lib\\site-packages\\pandas\\core\\indexes\\base.py:6200\u001b[0m, in \u001b[0;36mIndex._get_indexer_strict\u001b[1;34m(self, key, axis_name)\u001b[0m\n\u001b[0;32m   6197\u001b[0m \u001b[38;5;28;01melse\u001b[39;00m:\n\u001b[0;32m   6198\u001b[0m     keyarr, indexer, new_indexer \u001b[38;5;241m=\u001b[39m \u001b[38;5;28mself\u001b[39m\u001b[38;5;241m.\u001b[39m_reindex_non_unique(keyarr)\n\u001b[1;32m-> 6200\u001b[0m \u001b[38;5;28;43mself\u001b[39;49m\u001b[38;5;241;43m.\u001b[39;49m\u001b[43m_raise_if_missing\u001b[49m\u001b[43m(\u001b[49m\u001b[43mkeyarr\u001b[49m\u001b[43m,\u001b[49m\u001b[43m \u001b[49m\u001b[43mindexer\u001b[49m\u001b[43m,\u001b[49m\u001b[43m \u001b[49m\u001b[43maxis_name\u001b[49m\u001b[43m)\u001b[49m\n\u001b[0;32m   6202\u001b[0m keyarr \u001b[38;5;241m=\u001b[39m \u001b[38;5;28mself\u001b[39m\u001b[38;5;241m.\u001b[39mtake(indexer)\n\u001b[0;32m   6203\u001b[0m \u001b[38;5;28;01mif\u001b[39;00m \u001b[38;5;28misinstance\u001b[39m(key, Index):\n\u001b[0;32m   6204\u001b[0m     \u001b[38;5;66;03m# GH 42790 - Preserve name from an Index\u001b[39;00m\n",
      "File \u001b[1;32mc:\\Users\\miba_\\Documents\\IA-FullStack\\MachineLearning\\practica\\.venv\\Lib\\site-packages\\pandas\\core\\indexes\\base.py:6249\u001b[0m, in \u001b[0;36mIndex._raise_if_missing\u001b[1;34m(self, key, indexer, axis_name)\u001b[0m\n\u001b[0;32m   6247\u001b[0m \u001b[38;5;28;01mif\u001b[39;00m nmissing:\n\u001b[0;32m   6248\u001b[0m     \u001b[38;5;28;01mif\u001b[39;00m nmissing \u001b[38;5;241m==\u001b[39m \u001b[38;5;28mlen\u001b[39m(indexer):\n\u001b[1;32m-> 6249\u001b[0m         \u001b[38;5;28;01mraise\u001b[39;00m \u001b[38;5;167;01mKeyError\u001b[39;00m(\u001b[38;5;124mf\u001b[39m\u001b[38;5;124m\"\u001b[39m\u001b[38;5;124mNone of [\u001b[39m\u001b[38;5;132;01m{\u001b[39;00mkey\u001b[38;5;132;01m}\u001b[39;00m\u001b[38;5;124m] are in the [\u001b[39m\u001b[38;5;132;01m{\u001b[39;00maxis_name\u001b[38;5;132;01m}\u001b[39;00m\u001b[38;5;124m]\u001b[39m\u001b[38;5;124m\"\u001b[39m)\n\u001b[0;32m   6251\u001b[0m     not_found \u001b[38;5;241m=\u001b[39m \u001b[38;5;28mlist\u001b[39m(ensure_index(key)[missing_mask\u001b[38;5;241m.\u001b[39mnonzero()[\u001b[38;5;241m0\u001b[39m]]\u001b[38;5;241m.\u001b[39munique())\n\u001b[0;32m   6252\u001b[0m     \u001b[38;5;28;01mraise\u001b[39;00m \u001b[38;5;167;01mKeyError\u001b[39;00m(\u001b[38;5;124mf\u001b[39m\u001b[38;5;124m\"\u001b[39m\u001b[38;5;132;01m{\u001b[39;00mnot_found\u001b[38;5;132;01m}\u001b[39;00m\u001b[38;5;124m not in index\u001b[39m\u001b[38;5;124m\"\u001b[39m)\n",
      "\u001b[1;31mKeyError\u001b[0m: \"None of [Index(['Experience Offered'], dtype='object')] are in the [columns]\""
     ]
    }
   ],
   "source": [
    "#uso del label encoder para transformar los objetos\n",
    "\n",
    "from sklearn import preprocessing\n",
    "# Procesar cada columna y almacenar el LabelEncoder\n",
    "for column in [\"Room Type\", \"Experience Offered\", \"Cancellation Policy\"]:\n",
    "    le = preprocessing.OrdinalEncoder()\n",
    "    airbnb_clean[column] = le.fit_transform(airbnb_clean[[column]])  # Usar doble corchete para mantener el formato DataFrame\n",
    "\n",
    "    print(f\"{column} - Total de clases: {len(le.categories_[0])}\")  # Imprimir total de clases"
   ]
  }
 ],
 "metadata": {
  "kernelspec": {
   "display_name": ".venv",
   "language": "python",
   "name": "python3"
  },
  "language_info": {
   "codemirror_mode": {
    "name": "ipython",
    "version": 3
   },
   "file_extension": ".py",
   "mimetype": "text/x-python",
   "name": "python",
   "nbconvert_exporter": "python",
   "pygments_lexer": "ipython3",
   "version": "3.12.4"
  }
 },
 "nbformat": 4,
 "nbformat_minor": 2
}
